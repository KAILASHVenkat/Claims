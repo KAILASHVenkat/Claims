{
  "nbformat": 4,
  "nbformat_minor": 0,
  "metadata": {
    "colab": {
      "provenance": [],
      "authorship_tag": "ABX9TyPaULagwI22sLylafMkrvUI",
      "include_colab_link": true
    },
    "kernelspec": {
      "name": "python3",
      "display_name": "Python 3"
    },
    "language_info": {
      "name": "python"
    }
  },
  "cells": [
    {
      "cell_type": "markdown",
      "metadata": {
        "id": "view-in-github",
        "colab_type": "text"
      },
      "source": [
        "<a href=\"https://colab.research.google.com/github/KAILASHVenkat/Claims/blob/main/Untitled13.ipynb\" target=\"_parent\"><img src=\"https://colab.research.google.com/assets/colab-badge.svg\" alt=\"Open In Colab\"/></a>"
      ]
    },
    {
      "cell_type": "code",
      "execution_count": 2,
      "metadata": {
        "colab": {
          "base_uri": "https://localhost:8080/"
        },
        "id": "7BKcEt_1XnDC",
        "outputId": "aa6d2d65-fd2c-4eb9-9939-bbe0563e1ff4"
      },
      "outputs": [
        {
          "output_type": "stream",
          "name": "stdout",
          "text": [
            "Probability that the selected number is even: 0.5\n",
            "Probability that the selected number is odd: 0.5\n",
            "Probability that the selected number is prime: 0.25\n",
            "Probability that the selected number is divisible by both 4 and 6: 0.08\n"
          ]
        }
      ],
      "source": [
        "total_numbers = 100\n",
        "\n",
        "# (a) Probability that the selected number is even\n",
        "even_numbers = [i for i in range(1, 101) if i % 2 == 0]\n",
        "probability_even = len(even_numbers) / total_numbers\n",
        "\n",
        "# (b) Probability that the selected number is odd\n",
        "odd_numbers = [i for i in range(1, 101) if i % 2 != 0]\n",
        "probability_odd = len(odd_numbers) / total_numbers\n",
        "\n",
        "# (c) Probability that the selected number is prime\n",
        "prime_numbers = [i for i in range(1, 101) if sympy.isprime(i)]\n",
        "probability_prime = len(prime_numbers) / total_numbers\n",
        "\n",
        "# (d) Probability that the selected number is divisible by both 4 and 6\n",
        "divisible_by_4_and_6 = [i for i in range(1, 101) if i % 4 == 0 and i % 6 == 0]\n",
        "probability_divisible_by_4_and_6 = len(divisible_by_4_and_6) / total_numbers\n",
        "\n",
        "# Printing the results\n",
        "print(f\"Probability that the selected number is even: {probability_even}\")\n",
        "print(f\"Probability that the selected number is odd: {probability_odd}\")\n",
        "print(f\"Probability that the selected number is prime: {probability_prime}\")\n",
        "print(f\"Probability that the selected number is divisible by both 4 and 6: {probability_divisible_by_4_and_6}\")\n",
        "\n"
      ]
    },
    {
      "cell_type": "code",
      "source": [
        "import itertools\n",
        "\n",
        "# All possible outcomes for a fair 6-sided die\n",
        "outcomes = [1, 2, 3, 4, 5, 6]\n",
        "\n",
        "# Generate all possible sequences of 10 rolls\n",
        "all_rolls = list(itertools.product(outcomes, repeat=10))\n",
        "\n",
        "# Count the total number of sequences\n",
        "total_sequences = len(all_rolls)\n",
        "\n",
        "# (a) Count the number of sequences where the sum is less than 22\n",
        "count_less_than_22 = sum(1 for roll in all_rolls if sum(roll) < 22)\n",
        "\n",
        "# (b) Count the number of sequences where the sum is greater than 25\n",
        "count_greater_than_25 = sum(1 for roll in all_rolls if sum(roll) > 25)\n",
        "\n",
        "# Calculate probabilities\n",
        "probability_less_than_22 = count_less_than_22 / total_sequences\n",
        "probability_greater_than_25 = count_greater_than_25 / total_sequences\n",
        "\n",
        "# Print the results\n",
        "print(f\"Probability that the sum is less than 22: {probability_less_than_22:.6f}\")\n",
        "print(f\"Probability that the sum is greater than 25: {probability_greater_than_25:.6f}\")\n"
      ],
      "metadata": {
        "colab": {
          "base_uri": "https://localhost:8080/"
        },
        "id": "aU4TWTqhY4bv",
        "outputId": "7d35e618-b15f-40fb-c6bc-ff15c6543cb1"
      },
      "execution_count": 3,
      "outputs": [
        {
          "output_type": "stream",
          "name": "stdout",
          "text": [
            "Probability that the sum is less than 22: 0.005337\n",
            "Probability that the sum is greater than 25: 0.961005\n"
          ]
        }
      ]
    },
    {
      "cell_type": "code",
      "source": [
        "from scipy.stats import binom\n",
        "\n",
        "# Parameters\n",
        "n = 16  # number of trials (children)\n",
        "p = 0.5  # probability of success (boy)\n",
        "\n",
        "# (a) Probability that exactly 6 of the children are boys\n",
        "probability_6_boys = binom.pmf(6, n, p)\n",
        "\n",
        "# (b) Probability that exactly 8 of the children are girls\n",
        "# Since the probability of having exactly 8 girls is the same as having exactly 8 boys (due to symmetry)\n",
        "probability_8_girls = binom.pmf(8, n, p)\n",
        "\n",
        "# (c) Probability that there are 6 or 7 boys\n",
        "probability_6_or_7_boys = binom.pmf(6, n, p) + binom.pmf(7, n, p)\n",
        "\n",
        "# (d) Probability that the number of boys lies between the interval [7, 12]\n",
        "probability_boys_between_7_and_12 = sum(binom.pmf(k, n, p) for k in range(7, 13))\n",
        "\n",
        "# Printing the results\n",
        "print(f\"Probability that exactly 6 of the children are boys: {probability_6_boys:.6f}\")\n",
        "print(f\"Probability that exactly 8 of the children are girls: {probability_8_girls:.6f}\")\n",
        "print(f\"Probability that there are 6 or 7 boys: {probability_6_or_7_boys:.6f}\")\n",
        "print(f\"Probability that the number of boys lies between 7 and 12: {probability_boys_between_7_and_12:.6f}\")\n"
      ],
      "metadata": {
        "colab": {
          "base_uri": "https://localhost:8080/"
        },
        "id": "MJC2YWRrayW7",
        "outputId": "3ec6bb87-2d55-4af2-9970-298f138a1b60"
      },
      "execution_count": 4,
      "outputs": [
        {
          "output_type": "stream",
          "name": "stdout",
          "text": [
            "Probability that exactly 6 of the children are boys: 0.122192\n",
            "Probability that exactly 8 of the children are girls: 0.196381\n",
            "Probability that there are 6 or 7 boys: 0.296753\n",
            "Probability that the number of boys lies between 7 and 12: 0.762115\n"
          ]
        }
      ]
    },
    {
      "cell_type": "code",
      "source": [
        "from scipy.stats import multinomial\n",
        "\n",
        "# Define the total number of balls and the probabilities for each color\n",
        "total_balls = 10 + 20 + 30\n",
        "p_white = 10 / total_balls\n",
        "p_red = 20 / total_balls\n",
        "p_green = 30 / total_balls\n",
        "\n",
        "# (a) Probability of drawing 4 white balls and 3 red balls\n",
        "probability_4_white_3_red = multinomial.pmf([4, 3, 0], n=7, p=[p_white, p_red, p_green])\n",
        "\n",
        "# (b) Probability that all 7 balls drawn are of the same color\n",
        "# All white balls\n",
        "probability_all_white = multinomial.pmf([7, 0, 0], n=7, p=[p_white, p_red, p_green])\n",
        "# All red balls\n",
        "probability_all_red = multinomial.pmf([0, 7, 0], n=7, p=[p_white, p_red, p_green])\n",
        "# All green balls\n",
        "probability_all_green = multinomial.pmf([0, 0, 7], n=7, p=[p_white, p_red, p_green])\n",
        "\n",
        "# Total probability that all 7 balls are the same color\n",
        "probability_all_same_color = probability_all_white + probability_all_red + probability_all_green\n",
        "\n",
        "# Printing the results\n",
        "print(f\"Probability that 4 white and 3 red balls appear: {probability_4_white_3_red:.6f}\")\n",
        "print(f\"Probability that all 7 balls are the same color: {probability_all_same_color:.6f}\")\n"
      ],
      "metadata": {
        "colab": {
          "base_uri": "https://localhost:8080/"
        },
        "id": "684Iz9k3a0gr",
        "outputId": "08649960-d845-4fd3-ad90-ea2cae6635c6"
      },
      "execution_count": 5,
      "outputs": [
        {
          "output_type": "stream",
          "name": "stdout",
          "text": [
            "Probability that 4 white and 3 red balls appear: 0.001000\n",
            "Probability that all 7 balls are the same color: 0.008273\n"
          ]
        }
      ]
    },
    {
      "cell_type": "code",
      "source": [],
      "metadata": {
        "id": "OK28Im5ua2ln"
      },
      "execution_count": null,
      "outputs": []
    }
  ]
}